{
  "nbformat": 4,
  "nbformat_minor": 0,
  "metadata": {
    "colab": {
      "name": "waste_transfer_learning.ipynb",
      "provenance": [],
      "collapsed_sections": [],
      "mount_file_id": "1tchNxqri-32LivwFABJUMHdovwUmJgno",
      "authorship_tag": "ABX9TyMTOAWXd8r0slZUUowNOw3N"
    },
    "kernelspec": {
      "name": "python3",
      "display_name": "Python 3"
    },
    "accelerator": "GPU"
  },
  "cells": [
    {
      "cell_type": "markdown",
      "metadata": {
        "id": "lSWzciCzI1c3"
      },
      "source": [
        "## **Waste classification with Transfer Learning (MobileNet V2 model)**\n",
        "\n",
        "The project concerns waste classification to determine if it may be recycle or not based on their photos. In this approach we will use a transfer learning with pre-trained MobileNet V2 model to check if we will achieve a better results.\n",
        "\n",
        "Transfer learning is a machine learning technique where a model trained on one task is re-purposed on a second related task. MobileNet V2 is a classification model developed by Google and it is pre-trained on the ImageNet dataset, a large dataset consisting of 1.4M images and 1000 classes.\n",
        "\n",
        "**Data**\n",
        "\n",
        "The dataset contains images divided into two classes: organic waste and recycle waste and it is split into train and test data. Training dataset contains 22564 images while test dataset 2513 images.\n",
        "\n",
        "### **Import libraries and data**\n"
      ]
    },
    {
      "cell_type": "code",
      "metadata": {
        "id": "PyJZqW7wkJuR"
      },
      "source": [
        "import os\n",
        "import numpy as np\n",
        "import pandas as pd\n",
        "import matplotlib.pyplot as plt\n",
        "import seaborn as sns\n",
        "from PIL import Image\n",
        "\n",
        "import tensorflow as tf\n",
        "from keras.preprocessing import image\n",
        "from keras.preprocessing.image import ImageDataGenerator\n",
        "from keras.models import Model\n",
        "from tensorflow.keras.models import Sequential\n",
        "from tensorflow.keras.layers import Dropout, Dense, Flatten\n",
        "from tensorflow.keras.models import load_model\n",
        "\n",
        "import warnings\n",
        "warnings.filterwarnings('ignore')"
      ],
      "execution_count": null,
      "outputs": []
    },
    {
      "cell_type": "markdown",
      "source": [
        "Read data:"
      ],
      "metadata": {
        "id": "UGaS1GtKcudJ"
      }
    },
    {
      "cell_type": "code",
      "metadata": {
        "id": "4sZpYR6Hmvh_",
        "colab": {
          "base_uri": "https://localhost:8080/"
        },
        "outputId": "4c349b2a-5530-4cac-f640-e675200e8512"
      },
      "source": [
        "cd '/content/drive/My Drive/Kaggle'"
      ],
      "execution_count": null,
      "outputs": [
        {
          "output_type": "stream",
          "name": "stdout",
          "text": [
            "/content/drive/My Drive/Kaggle\n"
          ]
        }
      ]
    },
    {
      "cell_type": "code",
      "metadata": {
        "id": "vidozlq93b1Q"
      },
      "source": [
        "train_dir = '/content/drive/My Drive/Kaggle/DATASET/TRAIN'\n",
        "test_dir = '/content/drive/My Drive/Kaggle/DATASET/TEST'"
      ],
      "execution_count": null,
      "outputs": []
    },
    {
      "cell_type": "markdown",
      "source": [
        "### **Data analysis**\n",
        "\n",
        "The dataset contains images divided into training and test ones in jpg format.\n",
        "\n",
        "The data include photos of the waste and there are 2 classes:  organic waste and recycle waste."
      ],
      "metadata": {
        "id": "VmIYbFj_dDWx"
      }
    },
    {
      "cell_type": "code",
      "source": [
        "class_names = os.listdir((train_dir))\n",
        "print(f'Names of categories: {len(class_names)}')"
      ],
      "metadata": {
        "id": "Ya-dYtMadC-Z",
        "colab": {
          "base_uri": "https://localhost:8080/"
        },
        "outputId": "b7913641-18a9-4b69-9810-b8ed8d1151de"
      },
      "execution_count": null,
      "outputs": [
        {
          "output_type": "stream",
          "name": "stdout",
          "text": [
            "Names of categories: 2\n"
          ]
        }
      ]
    },
    {
      "cell_type": "code",
      "source": [
        "count_train = {}\n",
        "count_test = {}\n",
        "\n",
        "for i in class_names:\n",
        "    count_train[i] = len(os.listdir(os.path.join(train_dir, i)))\n",
        "    count_test[i] = len(os.listdir(os.path.join(test_dir, i)))\n",
        "\n",
        "print(f'Total number of images in train set: {sum(list(count_train.values()))}')\n",
        "print(f'Total number of images in test set: {sum(list(count_test.values()))}')"
      ],
      "metadata": {
        "id": "sdqEA4fodC65",
        "colab": {
          "base_uri": "https://localhost:8080/"
        },
        "outputId": "1bc2ea96-532d-4df5-b28f-779c2555c640"
      },
      "execution_count": null,
      "outputs": [
        {
          "output_type": "stream",
          "name": "stdout",
          "text": [
            "Total number of images in train set: 22564\n",
            "Total number of images in test set: 2513\n"
          ]
        }
      ]
    },
    {
      "cell_type": "markdown",
      "source": [
        "Plot the number of images in train set:"
      ],
      "metadata": {
        "id": "AaUP-yFlGoTC"
      }
    },
    {
      "cell_type": "code",
      "source": [
        "sns.set_context('talk')\n",
        "sns.set_palette(sns.color_palette('muted'))\n",
        "sns.set_style('ticks')\n",
        "\n",
        "plt.figure(figsize=(7, 5))\n",
        "sns.barplot(x=list(count_train.keys()), y=list(count_train.values())).set_title('Number of images in each class')\n",
        "plt.xticks(rotation = 90)\n",
        "plt.margins(x=0)\n",
        "plt.show()"
      ],
      "metadata": {
        "id": "1YHq8tgmdZMH",
        "colab": {
          "base_uri": "https://localhost:8080/",
          "height": 348
        },
        "outputId": "e742f9be-70c7-4068-de01-619dc9f9fa0f"
      },
      "execution_count": null,
      "outputs": [
        {
          "output_type": "display_data",
          "data": {
            "text/plain": [
              "<Figure size 504x360 with 1 Axes>"
            ],
            "image/png": "[encoded data removed]"
          },
          "metadata": {}
        }
      ]
    },
    {
      "cell_type": "markdown",
      "source": [
        "Plot the number of images in test set:"
      ],
      "metadata": {
        "id": "d3fAuaG5Gub9"
      }
    },
    {
      "cell_type": "code",
      "source": [
        "sns.set_context('talk')\n",
        "sns.set_palette(sns.color_palette('muted'))\n",
        "sns.set_style('ticks')\n",
        "\n",
        "plt.figure(figsize=(7, 5))\n",
        "sns.barplot(x=list(count_test.keys()), y=list(count_test.values())).set_title('Number of images in each class')\n",
        "plt.xticks(rotation = 90)\n",
        "plt.margins(x=0)\n",
        "plt.show()"
      ],
      "metadata": {
        "id": "8g385vnZdZP3",
        "colab": {
          "base_uri": "https://localhost:8080/",
          "height": 348
        },
        "outputId": "5573ebca-78e8-46e0-9348-f063e86da633"
      },
      "execution_count": null,
      "outputs": [
        {
          "output_type": "display_data",
          "data": {
            "text/plain": [
              "<Figure size 504x360 with 1 Axes>"
            ],
            "image/png": "[encoded data removed]"
          },
          "metadata": {}
        }
      ]
    },
    {
      "cell_type": "markdown",
      "source": [
        "### **Data preparation**\n",
        "\n",
        "We add data augumentation to our dataset. We use ImageDataGenerator to create a transformation that rescales the images and applied data augmentation as well. We generate augumentation only for train data while validation data are only rescaling ones."
      ],
      "metadata": {
        "id": "zPKQx6TZb8Hp"
      }
    },
    {
      "cell_type": "code",
      "metadata": {
        "id": "VCEAs8-qmvr-"
      },
      "source": [
        "train_datagen = ImageDataGenerator(rotation_range=10,\n",
        "                                   width_shift_range=0.2,\n",
        "                                   height_shift_range=0.2, \n",
        "                                   zoom_range=0.2,\n",
        "                                   horizontal_flip=True,\n",
        "                                   vertical_flip = True,\n",
        "                                   rescale=1./255,\n",
        "                                   validation_split=0.2)\n",
        "\n",
        "\n",
        "val_datagen = ImageDataGenerator(rescale = 1./255,\n",
        "                                 validation_split=0.5)"
      ],
      "execution_count": null,
      "outputs": []
    },
    {
      "cell_type": "markdown",
      "metadata": {
        "id": "FGW2dVjMMpkH"
      },
      "source": [
        "Now we divide the data into training, validation and test sets and change the image size to 128.\n",
        "\n",
        "We use the flow_from_directory() method which allows to read the images directly from the directory and augment them while the neural network model is learning on the training data.\n"
      ]
    },
    {
      "cell_type": "code",
      "metadata": {
        "id": "C_P_mCksqITM",
        "colab": {
          "base_uri": "https://localhost:8080/"
        },
        "outputId": "3521abf0-b95c-47ba-f4dd-124cfce4eed8"
      },
      "source": [
        "batch_size = 32\n",
        "img_size = (128, 128)\n",
        "\n",
        "train_set = train_datagen.flow_from_directory(train_dir, \n",
        "                                              class_mode='binary',\n",
        "                                              batch_size = batch_size,\n",
        "                                              target_size=img_size)\n",
        "\n",
        "test_set = val_datagen.flow_from_directory(test_dir, \n",
        "                                           class_mode = 'binary',\n",
        "                                           batch_size = batch_size, \n",
        "                                           target_size=img_size,\n",
        "                                           subset= 'training')\n",
        "\n",
        "val_set = val_datagen.flow_from_directory(test_dir, \n",
        "                                          class_mode='binary',\n",
        "                                          batch_size = batch_size,\n",
        "                                          subset = 'validation',\n",
        "                                          target_size=img_size)\n",
        "   "
      ],
      "execution_count": null,
      "outputs": [
        {
          "output_type": "stream",
          "name": "stdout",
          "text": [
            "Found 22564 images belonging to 2 classes.\n",
            "Found 1257 images belonging to 2 classes.\n",
            "Found 1256 images belonging to 2 classes.\n"
          ]
        }
      ]
    },
    {
      "cell_type": "code",
      "metadata": {
        "id": "6IICaxreIZa3",
        "colab": {
          "base_uri": "https://localhost:8080/"
        },
        "outputId": "7ee6f4ef-2cf9-45b2-90ce-d3f8cd66d9f5"
      },
      "source": [
        "train_set.class_indices"
      ],
      "execution_count": null,
      "outputs": [
        {
          "output_type": "execute_result",
          "data": {
            "text/plain": [
              "{'O': 0, 'R': 1}"
            ]
          },
          "metadata": {},
          "execution_count": 13
        }
      ]
    },
    {
      "cell_type": "code",
      "metadata": {
        "id": "sF72_VgOIZ6G",
        "colab": {
          "base_uri": "https://localhost:8080/"
        },
        "outputId": "440d93ee-2bd5-475d-dc3c-c670bba02ac4"
      },
      "source": [
        "train_set.image_shape"
      ],
      "execution_count": null,
      "outputs": [
        {
          "output_type": "execute_result",
          "data": {
            "text/plain": [
              "(128, 128, 3)"
            ]
          },
          "metadata": {},
          "execution_count": 14
        }
      ]
    },
    {
      "cell_type": "code",
      "source": [
        "test_set.image_shape"
      ],
      "metadata": {
        "colab": {
          "base_uri": "https://localhost:8080/"
        },
        "id": "BGI7Nq5Fbp9i",
        "outputId": "39fa4ddd-013e-4e44-8c42-1088bf749521"
      },
      "execution_count": null,
      "outputs": [
        {
          "output_type": "execute_result",
          "data": {
            "text/plain": [
              "(128, 128, 3)"
            ]
          },
          "metadata": {},
          "execution_count": 15
        }
      ]
    },
    {
      "cell_type": "markdown",
      "metadata": {
        "id": "nfrBtx56Ix7o"
      },
      "source": [
        "### **Creating the model**\n",
        "\n",
        "We build model by using transfer learning with pre-trained MobileNet V2 model.\n",
        "\n",
        "First we create the base MobileNetV2 model:"
      ]
    },
    {
      "cell_type": "code",
      "metadata": {
        "id": "GQvtFjMMuSep",
        "colab": {
          "base_uri": "https://localhost:8080/"
        },
        "outputId": "96610c96-abbd-480e-c1f8-ede4858a33e0"
      },
      "source": [
        "img_shape = (128,128,3)\n",
        "\n",
        "base_model = tf.keras.applications.MobileNetV2(input_shape=img_shape,\n",
        "                                               include_top=False, \n",
        "                                               weights='imagenet')"
      ],
      "execution_count": null,
      "outputs": [
        {
          "output_type": "stream",
          "name": "stdout",
          "text": [
            "Downloading data from https://storage.googleapis.com/tensorflow/keras-applications/mobilenet_v2/mobilenet_v2_weights_tf_dim_ordering_tf_kernels_1.0_128_no_top.h5\n",
            "9412608/9406464 [==============================] - 0s 0us/step\n",
            "9420800/9406464 [==============================] - 0s 0us/step\n"
          ]
        }
      ]
    },
    {
      "cell_type": "markdown",
      "source": [
        "Next we freeze the convolutional layers to use the base model as a feature extractor:"
      ],
      "metadata": {
        "id": "XEy3My5r8Fta"
      }
    },
    {
      "cell_type": "code",
      "source": [
        "for layer in base_model.layers:\n",
        "     layer.trainable = False"
      ],
      "metadata": {
        "id": "cGHG7gwbiAyv"
      },
      "execution_count": null,
      "outputs": []
    },
    {
      "cell_type": "markdown",
      "source": [
        "**Model 1**\n",
        "\n",
        "The model 1 consists of Flatten layer, then we added two Dense layers with one Dropout layer as well."
      ],
      "metadata": {
        "id": "gSrPMNbViJ6u"
      }
    },
    {
      "cell_type": "code",
      "source": [
        "model = tf.keras.Sequential([base_model,\n",
        "                             tf.keras.layers.Flatten(),\n",
        "                             tf.keras.layers.Dense(32, activation=\"relu\"),\n",
        "                             tf.keras.layers.Dropout(0.2),\n",
        "                             tf.keras.layers.Dense(1, activation=\"sigmoid\")                                     \n",
        "                             ])"
      ],
      "metadata": {
        "id": "vU4yD5uKiI8R"
      },
      "execution_count": null,
      "outputs": []
    },
    {
      "cell_type": "code",
      "source": [
        "model.compile(optimizer = 'adam', \n",
        "              loss = 'binary_crossentropy',\n",
        "              metrics = ['accuracy'])"
      ],
      "metadata": {
        "id": "hlpuc5qEiI4W"
      },
      "execution_count": null,
      "outputs": []
    },
    {
      "cell_type": "markdown",
      "source": [
        "We train the model for 10 epoch:"
      ],
      "metadata": {
        "id": "zTxPrIpFijYI"
      }
    },
    {
      "cell_type": "code",
      "source": [
        "steps_per_epoch=int(len(train_set)/batch_size)"
      ],
      "metadata": {
        "id": "LEtS-vXQisTU"
      },
      "execution_count": null,
      "outputs": []
    },
    {
      "cell_type": "code",
      "source": [
        "history = model.fit(\n",
        "    train_set, per_epoch,\n",
        "    verbose=1\n",
        ")"
      ],
      "metadata": {
        "id": "VBtfFRpliIy5",
        "colab": {
          "base_uri": "https://localhost:8080/"
        },
        "outputId": "0cfdcabb-34ea-45a7-fcad-8f6cdf90183f"
      },
      "execution_count": null,
      "outputs": [
        {
          "output_type": "stream",
          "name": "stdout",
          "text": [
            "Epoch 1/10\n",
            "22/22 [==============================] - 613s 29s/step - loss: 0.6752 - accuracy: 0.7614 - val_loss: 0.3764 - val_accuracy: 0.8089\n",
            "Epoch 2/10\n",
            "22/22 [==============================] - 211s 10s/step - loss: 0.3595 - accuracy: 0.8452 - val_loss: 0.3066 - val_accuracy: 0.8503\n",
            "Epoch 3/10\n",
            "22/22 [==============================] - 201s 9s/step - loss: 0.3249 - accuracy: 0.8565 - val_loss: 0.2845 - val_accuracy: 0.8893\n",
            "Epoch 4/10\n",
            "22/22 [==============================] - 198s 9s/step - loss: 0.3218 - accuracy: 0.8679 - val_loss: 0.3137 - val_accuracy: 0.8909\n",
            "Epoch 5/10\n",
            "22/22 [==============================] - 191s 9s/step - loss: 0.3177 - accuracy: 0.8438 - val_loss: 0.3502 - val_accuracy: 0.8432\n",
            "Epoch 6/10\n",
            "22/22 [==============================] - 180s 8s/step - loss: 0.2891 - accuracy: 0.8778 - val_loss: 0.2995 - val_accuracy: 0.8694\n",
            "Epoch 7/10\n",
            "22/22 [==============================] - 175s 8s/step - loss: 0.3018 - accuracy: 0.8736 - val_loss: 0.2894 - val_accuracy: 0.8774\n",
            "Epoch 8/10\n",
            "22/22 [==============================] - 171s 8s/step - loss: 0.2688 - accuracy: 0.8892 - val_loss: 0.3599 - val_accuracy: 0.8217\n",
            "Epoch 9/10\n",
            "22/22 [==============================] - 166s 8s/step - loss: 0.3216 - accuracy: 0.8622 - val_loss: 0.3883 - val_accuracy: 0.8145\n",
            "Epoch 10/10\n",
            "22/22 [==============================] - 163s 7s/step - loss: 0.3058 - accuracy: 0.8807 - val_loss: 0.4929 - val_accuracy: 0.8153\n"
          ]
        }
      ]
    },
    {
      "cell_type": "markdown",
      "source": [
        "**Visualization training results**\n",
        "\n",
        "The plots of loss and accuracy on the training and validation sets:\n"
      ],
      "metadata": {
        "id": "zIV2QUiGi9Pk"
      }
    },
    {
      "cell_type": "code",
      "source": [
        "# plot function\n",
        "def plot_graphs(history, string):\n",
        "  plt.plot(history.history[string])\n",
        "  plt.plot(history.history['val_'+string])\n",
        "  plt.xlabel(\"Epochs\")\n",
        "  plt.ylabel(string)\n",
        "  plt.legend([string, 'val_'+string])\n",
        "  plt.show()"
      ],
      "metadata": {
        "id": "Oaak1JAyilO4"
      },
      "execution_count": null,
      "outputs": []
    },
    {
      "cell_type": "code",
      "source": [
        "plot_graphs(history, \"accuracy\")\n",
        "plot_graphs(history, \"loss\")"
      ],
      "metadata": {
        "id": "pOQKxaErilVG",
        "colab": {
          "base_uri": "https://localhost:8080/",
          "height": 541
        },
        "outputId": "0af9b237-634b-49df-9c5d-1208096a9b4b"
      },
      "execution_count": null,
      "outputs": [
        {
          "output_type": "display_data",
          "data": {
            "text/plain": [
              "<Figure size 432x288 with 1 Axes>"
            ],
            "image/png": "[encoded data removed]"
          },
          "metadata": {
            "needs_background": "light"
          }
        },
        {
          "output_type": "display_data",
          "data": {
            "text/plain": [
              "<Figure size 432x288 with 1 Axes>"
            ],
            "image/png": "[encoded data removed]"
          },
          "metadata": {
            "needs_background": "light"
          }
        }
      ]
    },
    {
      "cell_type": "markdown",
      "source": [
        "**Prediction for model 1:**"
      ],
      "metadata": {
        "id": "d-cLUc5FjEIK"
      }
    },
    {
      "cell_type": "code",
      "source": [
        "loss, accuracy = model.evaluate(test_set, verbose=False)\n",
        "print(\"Testing Accuracy:  {:.4f}\".format(accuracy))"
      ],
      "metadata": {
        "id": "T4HxXEdZiIua",
        "colab": {
          "base_uri": "https://localhost:8080/"
        },
        "outputId": "8fec5834-9696-4091-9832-759342cb562f"
      },
      "execution_count": null,
      "outputs": [
        {
          "output_type": "stream",
          "name": "stdout",
          "text": [
            "Testing Accuracy:  0.8274\n"
          ]
        }
      ]
    },
    {
      "cell_type": "code",
      "source": [
        "# save model\n",
        "model.save(\"tf_model.h5\")"
      ],
      "metadata": {
        "id": "BG90mFEWWcoW"
      },
      "execution_count": null,
      "outputs": []
    },
    {
      "cell_type": "markdown",
      "source": [
        "In this approach one can notice that the training and validation accuracy is increasing together and start to decreasing after 4 epoch. The similar situation takes place in the case of training and validation loss. One can also see a little bit of overfitting. On the test data we achieved 83% accuracy.  However we will check if we can improve its accuracy in the next model."
      ],
      "metadata": {
        "id": "Q1uDQeJw_9fj"
      }
    },
    {
      "cell_type": "markdown",
      "source": [
        "**Model 2**\n",
        "\n",
        "In model two we change a bit architecture of our model, changing number of neurons in Dense layer."
      ],
      "metadata": {
        "id": "bloC5lAoVT2X"
      }
    },
    {
      "cell_type": "code",
      "metadata": {
        "id": "dp9dsmwuv1o6"
      },
      "source": [
        "model2 = tf.keras.Sequential([base_model,\n",
        "                             tf.keras.layers.Flatten(),\n",
        "                             tf.keras.layers.Dense(64, activation=\"relu\"),\n",
        "                             tf.keras.layers.Dropout(0.2),\n",
        "                             tf.keras.layers.Dense(1, activation=\"sigmoid\")                                     \n",
        "                             ])"
      ],
      "execution_count": null,
      "outputs": []
    },
    {
      "cell_type": "code",
      "source": [
        "model2.compile(optimizer = 'adam', \n",
        "              loss = 'binary_crossentropy',\n",
        "              metrics = ['accuracy'])"
      ],
      "metadata": {
        "id": "NyxEOR8NiIk6"
      },
      "execution_count": null,
      "outputs": []
    },
    {
      "cell_type": "code",
      "source": [
        "history2 = model2.fit(\n",
        "    train_set,\n",
        "    epochs = 10,\n",
        "    validation_data = val_set,\n",
        "    steps_per_epoch=steps_per_epoch,\n",
        "    verbose=1\n",
        ")"
      ],
      "metadata": {
        "colab": {
          "base_uri": "https://localhost:8080/"
        },
        "id": "2ysr8Qe1VcwF",
        "outputId": "c1a7fe8d-f002-4eb8-9eda-bd5b6bb28a38"
      },
      "execution_count": null,
      "outputs": [
        {
          "output_type": "stream",
          "name": "stdout",
          "text": [
            "Epoch 1/10\n",
            "22/22 [==============================] - 268s 12s/step - loss: 1.0894 - accuracy: 0.6236 - val_loss: 0.4341 - val_accuracy: 0.7986\n",
            "Epoch 2/10\n",
            "22/22 [==============================] - 258s 12s/step - loss: 0.3437 - accuracy: 0.8580 - val_loss: 0.2545 - val_accuracy: 0.8909\n",
            "Epoch 3/10\n",
            "22/22 [==============================] - 255s 12s/step - loss: 0.3544 - accuracy: 0.8480 - val_loss: 0.2641 - val_accuracy: 0.8973\n",
            "Epoch 4/10\n",
            "22/22 [==============================] - 238s 11s/step - loss: 0.2813 - accuracy: 0.8793 - val_loss: 0.2857 - val_accuracy: 0.8678\n",
            "Epoch 5/10\n",
            "22/22 [==============================] - 235s 11s/step - loss: 0.2696 - accuracy: 0.8991 - val_loss: 0.2085 - val_accuracy: 0.9244\n",
            "Epoch 6/10\n",
            "22/22 [==============================] - 223s 10s/step - loss: 0.2787 - accuracy: 0.8849 - val_loss: 0.2198 - val_accuracy: 0.9268\n",
            "Epoch 7/10\n",
            "22/22 [==============================] - 222s 10s/step - loss: 0.3144 - accuracy: 0.8807 - val_loss: 0.2470 - val_accuracy: 0.8901\n",
            "Epoch 8/10\n",
            "22/22 [==============================] - 226s 10s/step - loss: 0.2736 - accuracy: 0.8665 - val_loss: 0.2513 - val_accuracy: 0.8925\n",
            "Epoch 9/10\n",
            "22/22 [==============================] - 210s 9s/step - loss: 0.3109 - accuracy: 0.8722 - val_loss: 0.2432 - val_accuracy: 0.9013\n",
            "Epoch 10/10\n",
            "22/22 [==============================] - 200s 9s/step - loss: 0.2540 - accuracy: 0.8864 - val_loss: 0.2616 - val_accuracy: 0.8854\n"
          ]
        }
      ]
    },
    {
      "cell_type": "code",
      "source": [
        "plot_graphs(history2, \"accuracy\")\n",
        "plot_graphs(history2, \"loss\")"
      ],
      "metadata": {
        "colab": {
          "base_uri": "https://localhost:8080/",
          "height": 585
        },
        "id": "bfYjPc-VVc8D",
        "outputId": "9df98aa1-fa3b-4e8c-a8aa-13950cb6605c"
      },
      "execution_count": null,
      "outputs": [
        {
          "output_type": "display_data",
          "data": {
            "text/plain": [
              "<Figure size 432x288 with 1 Axes>"
            ],
            "image/png": "[encoded data removed]"
          },
          "metadata": {}
        },
        {
          "output_type": "display_data",
          "data": {
            "text/plain": [
              "<Figure size 432x288 with 1 Axes>"
            ],
            "image/png": "[encoded data removed]"
          },
          "metadata": {}
        }
      ]
    },
    {
      "cell_type": "code",
      "source": [
        "loss, accuracy = model2.evaluate(test_set, verbose=False)\n",
        "print(\"Testing Accuracy:  {:.4f}\".format(accuracy))"
      ],
      "metadata": {
        "id": "7z-OIF1ajLR2",
        "colab": {
          "base_uri": "https://localhost:8080/"
        },
        "outputId": "af13ba98-90a8-4d94-e2b2-383197a57432"
      },
      "execution_count": null,
      "outputs": [
        {
          "output_type": "stream",
          "name": "stdout",
          "text": [
            "Testing Accuracy:  0.8839\n"
          ]
        }
      ]
    },
    {
      "cell_type": "code",
      "source": [
        "model2.save(\"tf_model_2.h5\")"
      ],
      "metadata": {
        "id": "3LA0mLKzjLVi"
      },
      "execution_count": null,
      "outputs": []
    },
    {
      "cell_type": "markdown",
      "source": [
        "In the second model we have achieved a better result than in the first one. The training graphs show that the model was able to converge. The training and validation accuracy is increasing together and the same one can see in the case of the training and validation loss. It also decreased of overfitting. The accuracy of the test set was at the level of 88% and was also better compared to the model 1."
      ],
      "metadata": {
        "id": "Psb80uNsCuyl"
      }
    },
    {
      "cell_type": "markdown",
      "source": [
        "### **Summary**\n",
        "\n",
        "In this approach we have used a pretrained MobileNetV2 model to resolve our image classification problem. From received analysis we can see that the second model is better than first one. By virtue the transfer learning and changing the architecture a little bit it was possible to obtain a model with better accuracy."
      ],
      "metadata": {
        "id": "gMKGf_MDiJGU"
      }
    }
  ]
}